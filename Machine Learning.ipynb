{
 "cells": [
  {
   "cell_type": "markdown",
   "id": "b70bee79-b60d-4e64-8202-a4dd0960b5f5",
   "metadata": {},
   "source": [
    "# Machine Learning"
   ]
  },
  {
   "cell_type": "markdown",
   "id": "2085cd74-54ad-460d-aa7b-bd46e0d552d2",
   "metadata": {},
   "source": [
    "### Definition"
   ]
  },
  {
   "cell_type": "markdown",
   "id": "fa9d7150-8f12-442a-8554-202b3691b770",
   "metadata": {},
   "source": [
    "It is a subset of artificial intelligence that uses algorithms and statistical models to find patterns in data, make predictions, and automatically improve its performance as it processes more information."
   ]
  },
  {
   "cell_type": "markdown",
   "id": "c39e5fe5-0902-44ce-9731-0f4499b18a10",
   "metadata": {},
   "source": [
    "Machine Learning algorithms find patterns in data and use those patterns to make predictions or decisions.This can improve their performance as they’re exposed to more data."
   ]
  },
  {
   "cell_type": "markdown",
   "id": "efc0666e-fad3-48b2-b47d-d24c081d35ba",
   "metadata": {},
   "source": [
    "### Types of Machine Learning"
   ]
  },
  {
   "cell_type": "markdown",
   "id": "1be59f87-b5ef-4605-805a-c40f3afb09b9",
   "metadata": {},
   "source": [
    "**Supervised Learning:** We can feed the model labeled data (like images of cats and dogs with tags), and it learns to predict the label for new, unseen data."
   ]
  },
  {
   "cell_type": "markdown",
   "id": "e3faa2e5-5ddc-4b5c-8ef6-b5c26abe7497",
   "metadata": {},
   "source": [
    "**Unsupervised Learning:** No labels—just raw data\n"
   ]
  },
  {
   "cell_type": "markdown",
   "id": "94bccc8a-b8a0-4fd8-935d-d4ee785ea668",
   "metadata": {},
   "source": [
    "**Reinforcement Learning:** This model learns by trial and error by receiving feedback to optimize its strategy. they are often used in gaming, AI or robotics.\n"
   ]
  },
  {
   "cell_type": "markdown",
   "id": "ab7da1c8-3351-4ec4-950c-e23e6f8be5ae",
   "metadata": {},
   "source": [
    "### Basic Workflow"
   ]
  },
  {
   "cell_type": "markdown",
   "id": "949048e8-fc9a-45b7-b9eb-25417ad7d148",
   "metadata": {},
   "source": [
    "####  Problem Definition"
   ]
  },
  {
   "cell_type": "markdown",
   "id": "e127a33f-c64b-4dab-9e75-f55105c4ffa4",
   "metadata": {},
   "source": [
    "Find  the business or analytical problem clearly , Analyse the  objectives, scope, and success metrics"
   ]
  },
  {
   "cell_type": "markdown",
   "id": "4a71960f-98b6-4ea6-b62a-4aab1e4a0958",
   "metadata": {},
   "source": [
    "#### Data Collection "
   ]
  },
  {
   "cell_type": "markdown",
   "id": "eb992bef-e140-408c-ac1e-b8c7738f7e87",
   "metadata": {},
   "source": [
    "Gather relevant datasets from internal sources, APIs, or open data."
   ]
  },
  {
   "cell_type": "markdown",
   "id": "28495ae1-5318-4bf1-9872-6930c88175d6",
   "metadata": {},
   "source": [
    "#### Data Cleaning & Preprocessing"
   ]
  },
  {
   "cell_type": "markdown",
   "id": "82a50d48-117b-45b1-b54c-d3e63fb1e4f5",
   "metadata": {},
   "source": [
    "Here Handle missing values, outliers, and encoding issues are done .Normalize or scaling  is done."
   ]
  },
  {
   "cell_type": "markdown",
   "id": "b80806d3-2609-4040-bbf1-d8d313ab7c40",
   "metadata": {},
   "source": [
    "#### Exploratory Data Analysis (EDA)"
   ]
  },
  {
   "cell_type": "markdown",
   "id": "565ff106-85d8-4f7e-90f8-ab136fa68ce7",
   "metadata": {},
   "source": [
    "At this stage we can visualize distributions, correlations, and outliers are done .Skewness, feature importance, and potential leakage are being identified."
   ]
  },
  {
   "cell_type": "markdown",
   "id": "065a7ad9-bb60-4331-9387-ed3a3556602b",
   "metadata": {},
   "source": [
    "####  Feature Engineering"
   ]
  },
  {
   "cell_type": "markdown",
   "id": "4ec3b6c5-48f2-41e4-a4ff-8782909bebfd",
   "metadata": {},
   "source": [
    "Creating new features from existing ones and Select relevant features using statistical tests or model-based methods."
   ]
  },
  {
   "cell_type": "markdown",
   "id": "81c25e9a-3d08-48e4-9052-d360b4f8aefc",
   "metadata": {},
   "source": [
    "#### Model Selection"
   ]
  },
  {
   "cell_type": "markdown",
   "id": "7eb31e03-580a-4d69-b542-cf70271b7a2e",
   "metadata": {},
   "source": [
    "Here Choose appropriate algorithms based on task. Interpretability, performance, and scalability is considered here.\n",
    "**Regression , Classification** "
   ]
  },
  {
   "cell_type": "markdown",
   "id": "083737d4-4eea-41d0-ba75-0cc383219f0b",
   "metadata": {},
   "source": [
    "#### Classification Algorithm"
   ]
  },
  {
   "cell_type": "markdown",
   "id": "b0cab054-9adc-4a1f-a09a-ff680beed6ce",
   "metadata": {},
   "source": [
    "Classification is a supervised learning task where it is mainly used to predict a categorical label (e.g: 'spam' or 'not spam') based on input features."
   ]
  },
  {
   "cell_type": "markdown",
   "id": "84df6464-78fb-41a5-95d5-79ef6f9a69b1",
   "metadata": {},
   "source": [
    "**Logistic Regression** : It finds the  probabilities for binary outcomes using a sigmoid function . It is best suited for binary classification (e.g fraud Detection)"
   ]
  },
  {
   "cell_type": "markdown",
   "id": "bf0987a4-aa14-4c52-a732-9368c57c4708",
   "metadata": {},
   "source": [
    "from sklearn.linear_model import LogisticRegression \n",
    "\n",
    "from sklearn.metrics import accuracy_score, classification_report,confusion_matrix\n",
    "\n",
    "lr = LogisticRegression()\n",
    "\n",
    "lr.fit(X_train,Y_train)\n",
    "\n",
    "Y_pred_lr=lr.predict(X_test)\n",
    "\n",
    "Y_pred_lr\n",
    "\n",
    "accuracy= accuracy_score(Y_test,Y_pred_lr)\n",
    "\n",
    "accuracy\n",
    "\n",
    "print(\"\\nClassification Report:\\n\", classification_report(Y_test, Y_pred_lr))\n",
    "\n",
    "conf_matrix = confusion_matrix(Y_test, Y_pred_lr)\n",
    "\n",
    "sns.heatmap(conf_matrix, annot=True, fmt=\"d\", cmap=\"Blues\")\n",
    "\n",
    "plt.xlabel(\"Predicted\")\n",
    "\n",
    "plt.ylabel(\"Actual\")\n",
    "\n",
    "plt.title(\"Confusion Matrix\")\n",
    "\n",
    "plt.show()"
   ]
  },
  {
   "cell_type": "markdown",
   "id": "108d570f-b44f-42a6-9b33-12250f2a8ce3",
   "metadata": {},
   "source": [
    "**Decision Tree** : Here it splits the data into branches based on feature values. It is mostly used for interpretability, rule-based logic."
   ]
  },
  {
   "cell_type": "code",
   "execution_count": null,
   "id": "46e4621f-f9d9-450e-9ea1-82757eacf8c4",
   "metadata": {},
   "outputs": [],
   "source": [
    "from sklearn.tree import DecisionTreeClassifier\n",
    "\n",
    "dt=DecisionTreeClassifier()\n",
    "\n",
    "dt.fit(X_train , Y_train)"
   ]
  },
  {
   "cell_type": "markdown",
   "id": "18ff4c6c-0e74-4692-bdd7-efcd28680bcf",
   "metadata": {},
   "source": [
    "**Random Forest** : The Ensembling is done for decision trees for better accuracy .It is mainly suitable for high-dimensional data and noisy datasets."
   ]
  },
  {
   "cell_type": "markdown",
   "id": "4d12266d-04f4-47ef-9ef7-1102e8e89145",
   "metadata": {},
   "source": [
    "from sklearn.ensemble import RandomForestClassifier\n",
    "\n",
    "rf=RandomForestClassifier()\n",
    "\n",
    "rf.fit(X_train , Y_train)"
   ]
  },
  {
   "cell_type": "markdown",
   "id": "9cd23020-f9fb-45d4-96b9-0fdece8facfe",
   "metadata": {},
   "source": [
    "**Support Vector Machine (SVM)** : This algorithm helps to find the optimal boundary (hyperplane) between classes . It is best suited for Complex boundaries and small datasets."
   ]
  },
  {
   "cell_type": "markdown",
   "id": "2edd81d8-8952-4646-a720-fa7c2022b881",
   "metadata": {},
   "source": [
    "from sklearn.svm import SVC\n",
    "\n",
    "sv=SVC()\n",
    "\n",
    "sv.fit(X_train ,Y_train)"
   ]
  },
  {
   "cell_type": "markdown",
   "id": "e3073e5d-24cf-4870-a6ea-1abd901ae4ff",
   "metadata": {},
   "source": [
    "**K-Nearest Neighbors (KNN)** : It Classifies the data based on the majority class of nearest data points .It is mainly useful for Simple and non-parametric models."
   ]
  },
  {
   "cell_type": "markdown",
   "id": "14b02a0b-4339-4e36-9875-9d14239dcc29",
   "metadata": {},
   "source": [
    "**Naive Bayes** : It is a probabilistic classifier based on Bayes’ theorem with independence assumption. It is mainly used for Text classification, spam filterin"
   ]
  },
  {
   "cell_type": "markdown",
   "id": "39d0e7b8-f9bf-4a62-abab-e4dccd1f5777",
   "metadata": {},
   "source": [
    "from sklearn.naive_bayes import GaussianNB \n",
    "\n",
    "nb= GaussianNB()\n",
    "\n",
    "nb.fit(X_train, Y_train)"
   ]
  },
  {
   "cell_type": "markdown",
   "id": "e0b5466c-d507-4dbf-9e16-3efe30b7dc78",
   "metadata": {},
   "source": [
    "#### Regression Algorithm"
   ]
  },
  {
   "cell_type": "markdown",
   "id": "3dfcf1bf-b18f-4bc0-ad9f-8643c75162fb",
   "metadata": {},
   "source": [
    "Regression is a supervised learning technique which is used to predict continuous numerical values based on input features. It models the relationship between a dependent variable (target) and one or more independent variables (features)."
   ]
  },
  {
   "cell_type": "markdown",
   "id": "eb7a0ba2-5669-4001-aacb-dc72339eeae5",
   "metadata": {},
   "source": [
    "**Simple Linear Regression**"
   ]
  },
  {
   "cell_type": "markdown",
   "id": "74cfe873-5e02-4aa6-8a1c-628df990b713",
   "metadata": {},
   "source": [
    "Liner regression Model tells about the relationship of a  straight line.It is  mainly used for Simple and interpretable problems."
   ]
  },
  {
   "cell_type": "markdown",
   "id": "ca366a75-eec3-4340-a0a2-163f0a70d7c6",
   "metadata": {},
   "source": [
    "from sklearn.linear_model import LinearRegression\n",
    "\n",
    "lr=LinearRegression()\n",
    "\n",
    "lr.fit(X_train , Y_train)\n",
    "\n",
    "y_predict_lr=lr.predict(X_test) #using predict function\n",
    "\n",
    "y_predict_lr\n",
    "\n",
    "MAE=mean_absolute_error(Y_test, y_predict_lr) #mean absolute error finding\n",
    "\n",
    "MSE=mean_squared_error(Y_test, y_predict_lr) #mean square error finding\n",
    "\n",
    "RMSE= np.sqrt(MSE) #finding square root \n",
    "\n",
    "r2score=r2_score(Y_test, y_predict_lr) #detecting r2 score\n",
    "\n",
    "#printing the values of Linear Regression \n",
    "\n",
    "print(\"\\n Linear Regression Evaluation\")\n",
    "\n",
    "print(\"\\n MAE\",MAE)\n",
    "\n",
    "print(\"\\n MSE\",MSE)\n",
    "\n",
    "print(\"\\n RMSE\", RMSE)\n",
    "\n",
    "print(\"\\n R2 Score\", r2score)\n"
   ]
  },
  {
   "cell_type": "markdown",
   "id": "39ce94a7-54ad-4113-806b-74791dd063b2",
   "metadata": {},
   "source": [
    "**Multiple Linear Regression**"
   ]
  },
  {
   "cell_type": "markdown",
   "id": "c0da8176-c50a-4dc8-9908-e75f21bcb504",
   "metadata": {},
   "source": [
    "Here the model is regularised to linear regression in order to prevent overfitting problems .This is best suited for data with high dimensions and heplful for feature selection."
   ]
  },
  {
   "cell_type": "markdown",
   "id": "ac2a634e-7f51-42b9-ae1e-a0afba4f2a2d",
   "metadata": {},
   "source": [
    "**Polynomial Regression**"
   ]
  },
  {
   "cell_type": "markdown",
   "id": "94320125-ca09-4d8c-bdc1-81dafb54c5b5",
   "metadata": {},
   "source": [
    "Through this algorithm Fitting issues are resolved for nonlinear curve using polynomial terms. Here the Curve trends in the data."
   ]
  },
  {
   "cell_type": "markdown",
   "id": "24e3c6e5-8aff-4b07-8d04-96d915cb03ee",
   "metadata": {},
   "source": [
    "**Decision Tree Regression**"
   ]
  },
  {
   "cell_type": "markdown",
   "id": "3c5cee97-3cef-4d1e-ae9e-d0f1cd701401",
   "metadata": {},
   "source": [
    "In each data splitting takes place into the regions and then fits the simple models.This algorithm is more focussing on Nonlinear relationships and interpretability."
   ]
  },
  {
   "cell_type": "markdown",
   "id": "cb80e016-8c50-4621-81b9-fceeaf213155",
   "metadata": {},
   "source": [
    "from sklearn.tree import DecisionTreeRegressor\n",
    "\n",
    "dtr=DecisionTreeRegressor()\n",
    "\n",
    "dtr.fit(X_train, Y_train) #loading the Algorithm"
   ]
  },
  {
   "cell_type": "markdown",
   "id": "f0264f97-4758-473c-ba91-5178c995ac15",
   "metadata": {},
   "source": [
    "**Random Forest Regression**"
   ]
  },
  {
   "cell_type": "markdown",
   "id": "28ed80d8-3903-4ed3-85f6-986fa565512f",
   "metadata": {},
   "source": [
    "The Ensembling is done for decision trees for better accuracy .through the algorithm overfitting issue is resolved and suitable for complex datasets."
   ]
  },
  {
   "cell_type": "markdown",
   "id": "07236d47-f004-417f-87ea-8b61e85cab7c",
   "metadata": {},
   "source": [
    "from sklearn.ensemble import RandomForestRegressor\n",
    "\n",
    "rfr=RandomForestRegressor()\n",
    "\n",
    "rfr.fit(X_train, Y_train) #loading the  algorithm"
   ]
  },
  {
   "cell_type": "markdown",
   "id": "e7233d79-dc3d-4be4-bf92-e3235d4f4462",
   "metadata": {},
   "source": [
    "**Gradient Boosting (XGBoost)**"
   ]
  },
  {
   "cell_type": "markdown",
   "id": "7a66785c-0807-48ad-bb01-871616b54043",
   "metadata": {},
   "source": [
    "This algorithm builds the models sequentially in order to correct errors. It increases the performance and the competitions."
   ]
  },
  {
   "cell_type": "markdown",
   "id": "5e77609d-ed88-4f7f-86e0-c8d60360bd40",
   "metadata": {},
   "source": [
    "from sklearn.ensemble import GradientBoostingRegressor\n",
    "\n",
    "gbr=GradientBoostingRegressor()\n",
    "\n",
    "gbr.fit(X_train, Y_train) #loading the algorithm"
   ]
  },
  {
   "cell_type": "markdown",
   "id": "39504ac9-f392-4894-8c3d-9dcbe1b6f835",
   "metadata": {},
   "source": [
    "**Support Vector Regression (SVR)**"
   ]
  },
  {
   "cell_type": "markdown",
   "id": "353debca-2dbf-4b6b-a7de-7db38b4852b2",
   "metadata": {},
   "source": [
    "It margins to fit the best line in a high-dimensional area.It is best suited for small to medium datasets and to the nonlinear trends."
   ]
  },
  {
   "cell_type": "markdown",
   "id": "b02f5a5e-6f86-4c22-89ea-d60ab40a37f2",
   "metadata": {},
   "source": [
    "from sklearn.svm import SVR\n",
    "\n",
    "sv=SVR()\n",
    "\n",
    "sv.fit(X_train, Y_train) #fitting or loading the algorithm\n"
   ]
  },
  {
   "cell_type": "markdown",
   "id": "f27817b3-b6a2-4dad-bc8e-a11d25f59956",
   "metadata": {},
   "source": [
    "**K-Nearest Neighbors (KNN)**"
   ]
  },
  {
   "cell_type": "markdown",
   "id": "ca20e966-979b-4700-a2cc-8b129db77a71",
   "metadata": {},
   "source": [
    "It Predicts based on the average of nearby data points. It performs best on Simple, non-parametric, local patterns."
   ]
  },
  {
   "cell_type": "markdown",
   "id": "b83bf3e5-7a39-4497-987e-6b56c1e8cd98",
   "metadata": {},
   "source": [
    "#### Model Training"
   ]
  },
  {
   "cell_type": "markdown",
   "id": "c6ddf327-6c99-4968-9414-64ef50ce1c7d",
   "metadata": {},
   "source": [
    "Given data is splitted for training and testing (validation).Then Fit the model using training data.Finally hyperparameter tuning is done using GridSearchCV, RandomizedSearchCV (CV - Cross Validation)."
   ]
  },
  {
   "cell_type": "markdown",
   "id": "725a557e-cab0-44fd-9896-c4a90a07f9fc",
   "metadata": {},
   "source": [
    "#### Model Evaluation"
   ]
  },
  {
   "cell_type": "markdown",
   "id": "5ddb0d94-b194-420b-8706-014b1112a1eb",
   "metadata": {},
   "source": [
    "By using metrics like RMSE, R² (for regression) or Accuracy, F1-score (for classification) evaluation is done.Validate the model performance on unseen test data."
   ]
  },
  {
   "cell_type": "markdown",
   "id": "86ce047a-c621-46a9-8dab-8e1a85a1fdfa",
   "metadata": {},
   "source": [
    "#### Model Deployment"
   ]
  },
  {
   "cell_type": "markdown",
   "id": "485433f0-401e-4c67-9ffe-ca1ec4557ffa",
   "metadata": {},
   "source": [
    "Integration of the model is done into a production system or dashboard."
   ]
  },
  {
   "cell_type": "markdown",
   "id": "0c766f1c-42f4-4a3c-823d-8cd9b5ed136f",
   "metadata": {},
   "source": [
    "#### Monitoring and Maintenance"
   ]
  },
  {
   "cell_type": "markdown",
   "id": "17c91fdc-1eea-47f7-891b-55a844bde697",
   "metadata": {},
   "source": [
    "The Performance is tracked for a specific period of time . Also Retain a new Data if its accuracy gets dropped."
   ]
  },
  {
   "cell_type": "code",
   "execution_count": null,
   "id": "90bd8544-dfe3-43d6-9508-803b69484a6a",
   "metadata": {},
   "outputs": [],
   "source": []
  }
 ],
 "metadata": {
  "kernelspec": {
   "display_name": "Python 3 (ipykernel)",
   "language": "python",
   "name": "python3"
  },
  "language_info": {
   "codemirror_mode": {
    "name": "ipython",
    "version": 3
   },
   "file_extension": ".py",
   "mimetype": "text/x-python",
   "name": "python",
   "nbconvert_exporter": "python",
   "pygments_lexer": "ipython3",
   "version": "3.13.3"
  }
 },
 "nbformat": 4,
 "nbformat_minor": 5
}
